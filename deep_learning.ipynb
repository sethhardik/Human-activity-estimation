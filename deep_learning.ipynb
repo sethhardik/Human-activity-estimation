{
  "nbformat": 4,
  "nbformat_minor": 0,
  "metadata": {
    "colab": {
      "name": "deep learning.ipynb",
      "provenance": [],
      "authorship_tag": "ABX9TyNCCtN/1Nbi6+mwriIj+Trm",
      "include_colab_link": true
    },
    "kernelspec": {
      "name": "python3",
      "display_name": "Python 3"
    }
  },
  "cells": [
    {
      "cell_type": "markdown",
      "metadata": {
        "id": "view-in-github",
        "colab_type": "text"
      },
      "source": [
        "<a href=\"https://colab.research.google.com/github/sethhardik/Prithvi-AI-assignment/blob/master/deep_learning.ipynb\" target=\"_parent\"><img src=\"https://colab.research.google.com/assets/colab-badge.svg\" alt=\"Open In Colab\"/></a>"
      ]
    },
    {
      "cell_type": "markdown",
      "metadata": {
        "id": "J13SxFFPrVRZ",
        "colab_type": "text"
      },
      "source": [
        "## solving using deep networks\n",
        "\n",
        "performed on google colab change path names accodingly\n",
        "\n"
      ]
    },
    {
      "cell_type": "code",
      "metadata": {
        "id": "xzP6urJdm02t",
        "colab_type": "code",
        "colab": {
          "base_uri": "https://localhost:8080/",
          "height": 34
        },
        "outputId": "1b05581e-d3ee-4cce-e5a3-ed2d0158086b"
      },
      "source": [
        "import numpy as np\n",
        "import pandas as pd\n",
        "from sklearn.preprocessing import LabelEncoder\n",
        "import pickle\n",
        "from keras.layers import Dense,Activation\n",
        "from keras.models import Sequential\n",
        "import keras"
      ],
      "execution_count": 1,
      "outputs": [
        {
          "output_type": "stream",
          "text": [
            "Using TensorFlow backend.\n"
          ],
          "name": "stderr"
        }
      ]
    },
    {
      "cell_type": "markdown",
      "metadata": {
        "id": "ATnqYml_oWso",
        "colab_type": "text"
      },
      "source": [
        "## for mobile dataset only \n"
      ]
    },
    {
      "cell_type": "code",
      "metadata": {
        "id": "zidWR1nGnGPB",
        "colab_type": "code",
        "colab": {}
      },
      "source": [
        "xtrain = pd.read_csv(\"clean_train_phone.csv\")\n",
        "xtest = pd.read_csv(\"clean_test_phone.csv\")"
      ],
      "execution_count": 0,
      "outputs": []
    },
    {
      "cell_type": "code",
      "metadata": {
        "id": "2_4z4hxFnLhv",
        "colab_type": "code",
        "colab": {}
      },
      "source": [
        "xtrain.drop([\"ID\"],axis = 1, inplace = True)\n",
        "xtest.drop([\"ID\"],axis = 1, inplace = True)"
      ],
      "execution_count": 0,
      "outputs": []
    },
    {
      "cell_type": "code",
      "metadata": {
        "id": "ccUICwv9nNLB",
        "colab_type": "code",
        "colab": {}
      },
      "source": [
        "ytrain = xtrain[\"output\"]\n",
        "xtrain.drop([\"output\"],axis = 1, inplace = True)"
      ],
      "execution_count": 0,
      "outputs": []
    },
    {
      "cell_type": "code",
      "metadata": {
        "id": "bD6o0ydpnPDV",
        "colab_type": "code",
        "colab": {}
      },
      "source": [
        "ytest = xtest[\"output\"]\n",
        "xtest.drop([\"output\"],axis = 1, inplace = True)"
      ],
      "execution_count": 0,
      "outputs": []
    },
    {
      "cell_type": "code",
      "metadata": {
        "id": "mvURrQlpnQ3g",
        "colab_type": "code",
        "colab": {}
      },
      "source": [
        "le = LabelEncoder()\n",
        "y_train = le.fit_transform(ytrain)\n",
        "y_test = le.fit_transform(ytest)"
      ],
      "execution_count": 0,
      "outputs": []
    },
    {
      "cell_type": "code",
      "metadata": {
        "id": "L1Uyy1EcnSww",
        "colab_type": "code",
        "colab": {
          "base_uri": "https://localhost:8080/",
          "height": 34
        },
        "outputId": "4bb86d64-6b07-4b9a-846a-b7184ea76638"
      },
      "source": [
        "y_train=keras.utils.to_categorical(y_train,18)\n",
        "y_test=keras.utils.to_categorical(y_test,18)\n",
        "xtrain.shape"
      ],
      "execution_count": 44,
      "outputs": [
        {
          "output_type": "execute_result",
          "data": {
            "text/plain": [
              "(355, 24)"
            ]
          },
          "metadata": {
            "tags": []
          },
          "execution_count": 44
        }
      ]
    },
    {
      "cell_type": "code",
      "metadata": {
        "id": "uLjpsWy4nUpR",
        "colab_type": "code",
        "colab": {
          "base_uri": "https://localhost:8080/",
          "height": 34
        },
        "outputId": "c245dc6f-d919-4dd1-eb29-1010bdb43d9e"
      },
      "source": [
        "y_test.shape"
      ],
      "execution_count": 78,
      "outputs": [
        {
          "output_type": "execute_result",
          "data": {
            "text/plain": [
              "(252, 18)"
            ]
          },
          "metadata": {
            "tags": []
          },
          "execution_count": 78
        }
      ]
    },
    {
      "cell_type": "code",
      "metadata": {
        "id": "TnD1d1ZZnWjr",
        "colab_type": "code",
        "colab": {
          "base_uri": "https://localhost:8080/",
          "height": 286
        },
        "outputId": "33fd032b-ee39-4bc9-e134-c15d4d98c970"
      },
      "source": [
        "# making neural network \n",
        "model = Sequential()\n",
        "model.add(Dense(100, input_shape=(24,)))\n",
        "model.add(Activation('relu'))\n",
        "model.add(Dense(18))\n",
        "model.add(Activation('softmax'))\n",
        "model.summary()"
      ],
      "execution_count": 46,
      "outputs": [
        {
          "output_type": "stream",
          "text": [
            "Model: \"sequential_5\"\n",
            "_________________________________________________________________\n",
            "Layer (type)                 Output Shape              Param #   \n",
            "=================================================================\n",
            "dense_9 (Dense)              (None, 100)               2500      \n",
            "_________________________________________________________________\n",
            "activation_9 (Activation)    (None, 100)               0         \n",
            "_________________________________________________________________\n",
            "dense_10 (Dense)             (None, 18)                1818      \n",
            "_________________________________________________________________\n",
            "activation_10 (Activation)   (None, 18)                0         \n",
            "=================================================================\n",
            "Total params: 4,318\n",
            "Trainable params: 4,318\n",
            "Non-trainable params: 0\n",
            "_________________________________________________________________\n"
          ],
          "name": "stdout"
        }
      ]
    },
    {
      "cell_type": "code",
      "metadata": {
        "id": "glOChrGwnYcP",
        "colab_type": "code",
        "colab": {}
      },
      "source": [
        "model.compile(loss=\"binary_crossentropy\",optimizer=\"adam\",metrics=[\"accuracy\"])"
      ],
      "execution_count": 0,
      "outputs": []
    },
    {
      "cell_type": "code",
      "metadata": {
        "id": "Z3QGxTRznaoO",
        "colab_type": "code",
        "colab": {
          "base_uri": "https://localhost:8080/",
          "height": 706
        },
        "outputId": "a8d92f90-a647-4a53-fee0-50d37431f0f8"
      },
      "source": [
        "model.fit(xtrain,y_train,batch_size=1,epochs=20,verbose=1)"
      ],
      "execution_count": 48,
      "outputs": [
        {
          "output_type": "stream",
          "text": [
            "Epoch 1/20\n",
            "355/355 [==============================] - 0s 1ms/step - loss: 0.2605 - accuracy: 0.9368\n",
            "Epoch 2/20\n",
            "355/355 [==============================] - 0s 1ms/step - loss: 0.1970 - accuracy: 0.9430\n",
            "Epoch 3/20\n",
            "355/355 [==============================] - 0s 1ms/step - loss: 0.1795 - accuracy: 0.9448\n",
            "Epoch 4/20\n",
            "355/355 [==============================] - 0s 1ms/step - loss: 0.1714 - accuracy: 0.9454\n",
            "Epoch 5/20\n",
            "355/355 [==============================] - 0s 1ms/step - loss: 0.1645 - accuracy: 0.9471\n",
            "Epoch 6/20\n",
            "355/355 [==============================] - 0s 1ms/step - loss: 0.1600 - accuracy: 0.9471\n",
            "Epoch 7/20\n",
            "355/355 [==============================] - 0s 1ms/step - loss: 0.1541 - accuracy: 0.9493\n",
            "Epoch 8/20\n",
            "355/355 [==============================] - 0s 1ms/step - loss: 0.1494 - accuracy: 0.9505\n",
            "Epoch 9/20\n",
            "355/355 [==============================] - 0s 1ms/step - loss: 0.1482 - accuracy: 0.9496\n",
            "Epoch 10/20\n",
            "355/355 [==============================] - 0s 1ms/step - loss: 0.1424 - accuracy: 0.9512\n",
            "Epoch 11/20\n",
            "355/355 [==============================] - 0s 1ms/step - loss: 0.1387 - accuracy: 0.9534\n",
            "Epoch 12/20\n",
            "355/355 [==============================] - 0s 1ms/step - loss: 0.1365 - accuracy: 0.9540\n",
            "Epoch 13/20\n",
            "355/355 [==============================] - 0s 1ms/step - loss: 0.1331 - accuracy: 0.9537\n",
            "Epoch 14/20\n",
            "355/355 [==============================] - 0s 1ms/step - loss: 0.1324 - accuracy: 0.9531\n",
            "Epoch 15/20\n",
            "355/355 [==============================] - 0s 1ms/step - loss: 0.1287 - accuracy: 0.9551\n",
            "Epoch 16/20\n",
            "355/355 [==============================] - 0s 1ms/step - loss: 0.1288 - accuracy: 0.9549\n",
            "Epoch 17/20\n",
            "355/355 [==============================] - 0s 1ms/step - loss: 0.1236 - accuracy: 0.9559\n",
            "Epoch 18/20\n",
            "355/355 [==============================] - 0s 1ms/step - loss: 0.1229 - accuracy: 0.9567\n",
            "Epoch 19/20\n",
            "355/355 [==============================] - 0s 1ms/step - loss: 0.1211 - accuracy: 0.9549\n",
            "Epoch 20/20\n",
            "355/355 [==============================] - 0s 1ms/step - loss: 0.1176 - accuracy: 0.9573\n"
          ],
          "name": "stdout"
        },
        {
          "output_type": "execute_result",
          "data": {
            "text/plain": [
              "<keras.callbacks.callbacks.History at 0x7f7023cef358>"
            ]
          },
          "metadata": {
            "tags": []
          },
          "execution_count": 48
        }
      ]
    },
    {
      "cell_type": "code",
      "metadata": {
        "id": "zVFR95RUnchj",
        "colab_type": "code",
        "colab": {
          "base_uri": "https://localhost:8080/",
          "height": 50
        },
        "outputId": "1f4bff19-7190-450d-f5bf-06484f685423"
      },
      "source": [
        "score = model.evaluate(xtest, y_test,verbose=0)\n",
        "print('Test loss for only phone data using neural network:', score[0])\n",
        "print('Test accuracyfor only phone data using neural network:', score[1]*100,\"%\")"
      ],
      "execution_count": 52,
      "outputs": [
        {
          "output_type": "stream",
          "text": [
            "Test loss for only phone data using neural network: 0.2576493020095522\n",
            "Test accuracyfor only phone data using neural network: 92.85714030265808 %\n"
          ],
          "name": "stdout"
        }
      ]
    },
    {
      "cell_type": "code",
      "metadata": {
        "id": "jU30K0WhrvwW",
        "colab_type": "code",
        "colab": {
          "base_uri": "https://localhost:8080/",
          "height": 34
        },
        "outputId": "d0c9ee93-c921-4c78-f7a9-95791e5ae385"
      },
      "source": [
        "from keras.models import model_from_json\n",
        "\n",
        "model_json = model.to_json()\n",
        "with open(\"model_phone_NN.json\", \"w\") as json_file:\n",
        "    json_file.write(model_json)\n",
        "# serialize weights to HDF5\n",
        "model.save_weights(\"model_phone_NN.h5\")\n",
        "print(\"Saved model to disk\")\n",
        " "
      ],
      "execution_count": 79,
      "outputs": [
        {
          "output_type": "stream",
          "text": [
            "Saved model to disk\n"
          ],
          "name": "stdout"
        }
      ]
    },
    {
      "cell_type": "markdown",
      "metadata": {
        "id": "8weIy0IWpRqr",
        "colab_type": "text"
      },
      "source": [
        "## for watch dataset"
      ]
    },
    {
      "cell_type": "code",
      "metadata": {
        "id": "tHyLPftZnlPq",
        "colab_type": "code",
        "colab": {}
      },
      "source": [
        "xtrain = pd.read_csv(\"clean_train_watch.csv\")\n",
        "xtest = pd.read_csv(\"clean_test_watch.csv\")"
      ],
      "execution_count": 0,
      "outputs": []
    },
    {
      "cell_type": "code",
      "metadata": {
        "id": "cMBRE5fApabl",
        "colab_type": "code",
        "colab": {}
      },
      "source": [
        "xtrain.drop([\"ID\"],axis = 1, inplace = True)\n",
        "xtest.drop([\"ID\"],axis = 1, inplace = True)"
      ],
      "execution_count": 0,
      "outputs": []
    },
    {
      "cell_type": "code",
      "metadata": {
        "id": "pun51PvdpcjU",
        "colab_type": "code",
        "colab": {}
      },
      "source": [
        "ytrain = xtrain[\"output\"]\n",
        "xtrain.drop([\"output\"],axis = 1, inplace = True)"
      ],
      "execution_count": 0,
      "outputs": []
    },
    {
      "cell_type": "code",
      "metadata": {
        "id": "5Y-xB8yPpeQV",
        "colab_type": "code",
        "colab": {}
      },
      "source": [
        "ytest = xtest[\"output\"]\n",
        "xtest.drop([\"output\"],axis = 1, inplace = True)"
      ],
      "execution_count": 0,
      "outputs": []
    },
    {
      "cell_type": "code",
      "metadata": {
        "id": "sCP8ILI7pggR",
        "colab_type": "code",
        "colab": {}
      },
      "source": [
        "le = LabelEncoder()\n",
        "y_train = le.fit_transform(ytrain)\n",
        "y_test = le.fit_transform(ytest)"
      ],
      "execution_count": 0,
      "outputs": []
    },
    {
      "cell_type": "code",
      "metadata": {
        "id": "R8SDJCOmpiM_",
        "colab_type": "code",
        "colab": {
          "base_uri": "https://localhost:8080/",
          "height": 34
        },
        "outputId": "1a936ae1-705c-4c94-9a02-478049036d2d"
      },
      "source": [
        "y_train=keras.utils.to_categorical(y_train,18)\n",
        "y_test=keras.utils.to_categorical(y_test,18)\n",
        "xtrain.shape"
      ],
      "execution_count": 58,
      "outputs": [
        {
          "output_type": "execute_result",
          "data": {
            "text/plain": [
              "(358, 24)"
            ]
          },
          "metadata": {
            "tags": []
          },
          "execution_count": 58
        }
      ]
    },
    {
      "cell_type": "code",
      "metadata": {
        "id": "dOFliqeypkEu",
        "colab_type": "code",
        "colab": {
          "base_uri": "https://localhost:8080/",
          "height": 34
        },
        "outputId": "be4e8b69-68d5-4174-e186-4762d1155557"
      },
      "source": [
        "y_train.shape"
      ],
      "execution_count": 59,
      "outputs": [
        {
          "output_type": "execute_result",
          "data": {
            "text/plain": [
              "(358, 18)"
            ]
          },
          "metadata": {
            "tags": []
          },
          "execution_count": 59
        }
      ]
    },
    {
      "cell_type": "code",
      "metadata": {
        "id": "_zRB5Iw2pmbC",
        "colab_type": "code",
        "colab": {
          "base_uri": "https://localhost:8080/",
          "height": 286
        },
        "outputId": "8b10c865-7690-4f07-b27a-18589590464d"
      },
      "source": [
        "# making neural network \n",
        "model = Sequential()\n",
        "model.add(Dense(100, input_shape=(24,)))\n",
        "model.add(Activation('relu'))\n",
        "model.add(Dense(18))\n",
        "model.add(Activation('softmax'))\n",
        "model.summary()"
      ],
      "execution_count": 60,
      "outputs": [
        {
          "output_type": "stream",
          "text": [
            "Model: \"sequential_6\"\n",
            "_________________________________________________________________\n",
            "Layer (type)                 Output Shape              Param #   \n",
            "=================================================================\n",
            "dense_11 (Dense)             (None, 100)               2500      \n",
            "_________________________________________________________________\n",
            "activation_11 (Activation)   (None, 100)               0         \n",
            "_________________________________________________________________\n",
            "dense_12 (Dense)             (None, 18)                1818      \n",
            "_________________________________________________________________\n",
            "activation_12 (Activation)   (None, 18)                0         \n",
            "=================================================================\n",
            "Total params: 4,318\n",
            "Trainable params: 4,318\n",
            "Non-trainable params: 0\n",
            "_________________________________________________________________\n"
          ],
          "name": "stdout"
        }
      ]
    },
    {
      "cell_type": "code",
      "metadata": {
        "id": "6pnSw0nTpoka",
        "colab_type": "code",
        "colab": {}
      },
      "source": [
        "model.compile(loss=\"binary_crossentropy\",optimizer=\"adam\",metrics=[\"accuracy\"])"
      ],
      "execution_count": 0,
      "outputs": []
    },
    {
      "cell_type": "code",
      "metadata": {
        "id": "N5jHxG9Vpqzl",
        "colab_type": "code",
        "colab": {
          "base_uri": "https://localhost:8080/",
          "height": 706
        },
        "outputId": "992e6fac-98dc-4986-a979-636551b1d7f1"
      },
      "source": [
        "model.fit(xtrain,y_train,batch_size=1,epochs=20,verbose=1)"
      ],
      "execution_count": 62,
      "outputs": [
        {
          "output_type": "stream",
          "text": [
            "Epoch 1/20\n",
            "358/358 [==============================] - 1s 1ms/step - loss: 0.2981 - accuracy: 0.9314\n",
            "Epoch 2/20\n",
            "358/358 [==============================] - 0s 1ms/step - loss: 0.1749 - accuracy: 0.9448\n",
            "Epoch 3/20\n",
            "358/358 [==============================] - 0s 1ms/step - loss: 0.1584 - accuracy: 0.9441\n",
            "Epoch 4/20\n",
            "358/358 [==============================] - 0s 1ms/step - loss: 0.1389 - accuracy: 0.9528\n",
            "Epoch 5/20\n",
            "358/358 [==============================] - 0s 1ms/step - loss: 0.1245 - accuracy: 0.9545\n",
            "Epoch 6/20\n",
            "358/358 [==============================] - 0s 1ms/step - loss: 0.1111 - accuracy: 0.9570\n",
            "Epoch 7/20\n",
            "358/358 [==============================] - 0s 1ms/step - loss: 0.1048 - accuracy: 0.9597\n",
            "Epoch 8/20\n",
            "358/358 [==============================] - 0s 1ms/step - loss: 0.1009 - accuracy: 0.9617\n",
            "Epoch 9/20\n",
            "358/358 [==============================] - 0s 1ms/step - loss: 0.0968 - accuracy: 0.9632\n",
            "Epoch 10/20\n",
            "358/358 [==============================] - 0s 1ms/step - loss: 0.0858 - accuracy: 0.9674\n",
            "Epoch 11/20\n",
            "358/358 [==============================] - 0s 1ms/step - loss: 0.0809 - accuracy: 0.9688\n",
            "Epoch 12/20\n",
            "358/358 [==============================] - 0s 1ms/step - loss: 0.0839 - accuracy: 0.9657\n",
            "Epoch 13/20\n",
            "358/358 [==============================] - 0s 1ms/step - loss: 0.0736 - accuracy: 0.9713\n",
            "Epoch 14/20\n",
            "358/358 [==============================] - 0s 1ms/step - loss: 0.0708 - accuracy: 0.9700\n",
            "Epoch 15/20\n",
            "358/358 [==============================] - 0s 1ms/step - loss: 0.0711 - accuracy: 0.9719\n",
            "Epoch 16/20\n",
            "358/358 [==============================] - 0s 1ms/step - loss: 0.0659 - accuracy: 0.9756\n",
            "Epoch 17/20\n",
            "358/358 [==============================] - 0s 1ms/step - loss: 0.0661 - accuracy: 0.9736\n",
            "Epoch 18/20\n",
            "358/358 [==============================] - 0s 1ms/step - loss: 0.0631 - accuracy: 0.9764\n",
            "Epoch 19/20\n",
            "358/358 [==============================] - 0s 1ms/step - loss: 0.0599 - accuracy: 0.9763\n",
            "Epoch 20/20\n",
            "358/358 [==============================] - 0s 1ms/step - loss: 0.0531 - accuracy: 0.9792\n"
          ],
          "name": "stdout"
        },
        {
          "output_type": "execute_result",
          "data": {
            "text/plain": [
              "<keras.callbacks.callbacks.History at 0x7f7023af4e48>"
            ]
          },
          "metadata": {
            "tags": []
          },
          "execution_count": 62
        }
      ]
    },
    {
      "cell_type": "code",
      "metadata": {
        "id": "k4l-gQSspsyL",
        "colab_type": "code",
        "colab": {
          "base_uri": "https://localhost:8080/",
          "height": 50
        },
        "outputId": "d088cb4f-f337-46bc-f5df-22ae25d1d25b"
      },
      "source": [
        "score = model.evaluate(xtest, y_test,verbose=0)\n",
        "print('Test loss for only watch data using neural network:', score[0])\n",
        "print('Test accuracyfor only watch data using neural network:', score[1]*100,\"%\")"
      ],
      "execution_count": 64,
      "outputs": [
        {
          "output_type": "stream",
          "text": [
            "Test loss for only watch data using neural network: 0.16272434544941736\n",
            "Test accuracyfor only watch data using neural network: 94.95150446891785 %\n"
          ],
          "name": "stdout"
        }
      ]
    },
    {
      "cell_type": "code",
      "metadata": {
        "id": "uxH2dNMusLMQ",
        "colab_type": "code",
        "colab": {
          "base_uri": "https://localhost:8080/",
          "height": 34
        },
        "outputId": "ec435bca-de5c-4374-fcfd-6ce9389e29f8"
      },
      "source": [
        "model_json = model.to_json()\n",
        "with open(\"model_watch_NN.json\", \"w\") as json_file:\n",
        "    json_file.write(model_json)\n",
        "# serialize weights to HDF5\n",
        "model.save_weights(\"model_watch_NN.h5\")\n",
        "print(\"Saved model to disk\")\n",
        " "
      ],
      "execution_count": 80,
      "outputs": [
        {
          "output_type": "stream",
          "text": [
            "Saved model to disk\n"
          ],
          "name": "stdout"
        }
      ]
    },
    {
      "cell_type": "markdown",
      "metadata": {
        "id": "eVAhJckQp9-w",
        "colab_type": "text"
      },
      "source": [
        "## for both mobile and phone dataset"
      ]
    },
    {
      "cell_type": "code",
      "metadata": {
        "id": "AKfpzj-apxlf",
        "colab_type": "code",
        "colab": {}
      },
      "source": [
        "xtrain = pd.read_csv(\"clean_train_both.csv\")\n",
        "xtest = pd.read_csv(\"clean_test_both.csv\")"
      ],
      "execution_count": 0,
      "outputs": []
    },
    {
      "cell_type": "code",
      "metadata": {
        "id": "o_19xT6iqGnZ",
        "colab_type": "code",
        "colab": {
          "base_uri": "https://localhost:8080/",
          "height": 215
        },
        "outputId": "bf4fe58c-dc57-487f-b36f-8547249f425d"
      },
      "source": [
        "xtrain.head()"
      ],
      "execution_count": 66,
      "outputs": [
        {
          "output_type": "execute_result",
          "data": {
            "text/html": [
              "<div>\n",
              "<style scoped>\n",
              "    .dataframe tbody tr th:only-of-type {\n",
              "        vertical-align: middle;\n",
              "    }\n",
              "\n",
              "    .dataframe tbody tr th {\n",
              "        vertical-align: top;\n",
              "    }\n",
              "\n",
              "    .dataframe thead th {\n",
              "        text-align: right;\n",
              "    }\n",
              "</style>\n",
              "<table border=\"1\" class=\"dataframe\">\n",
              "  <thead>\n",
              "    <tr style=\"text-align: right;\">\n",
              "      <th></th>\n",
              "      <th>ID</th>\n",
              "      <th>output</th>\n",
              "      <th>accel_phone_x_mean</th>\n",
              "      <th>accel_phone_y_mean</th>\n",
              "      <th>accel_phone_z_mean</th>\n",
              "      <th>gyro_phone_x_mean</th>\n",
              "      <th>gyro_phone_y_mean</th>\n",
              "      <th>gyro_phone_z_mean</th>\n",
              "      <th>accel_watch_x_mean</th>\n",
              "      <th>accel_watch_y_mean</th>\n",
              "      <th>accel_watch_z_mean</th>\n",
              "      <th>gyro_watch_x_mean</th>\n",
              "      <th>gyro_watch_y_mean</th>\n",
              "      <th>gyro_watch_z_mean</th>\n",
              "      <th>accel_watch_x_std</th>\n",
              "      <th>accel_watch_y_std</th>\n",
              "      <th>accel_watch_z_std</th>\n",
              "      <th>gyro_watch_x_std</th>\n",
              "      <th>gyro_watch_y_std</th>\n",
              "      <th>gyro_watch_z_std</th>\n",
              "      <th>accel_phone_x_std</th>\n",
              "      <th>accel_phone_y_std</th>\n",
              "      <th>accel_phone_z_std</th>\n",
              "      <th>gyro_phone_x_std</th>\n",
              "      <th>gyro_phone_y_std</th>\n",
              "      <th>gyro_phone_z_std</th>\n",
              "      <th>accel_phone_x_max</th>\n",
              "      <th>accel_phone_y_max</th>\n",
              "      <th>accel_phone_z_max</th>\n",
              "      <th>gyro_phone_x_max</th>\n",
              "      <th>gyro_phone_y_max</th>\n",
              "      <th>gyro_phone_z_max</th>\n",
              "      <th>accel_watch_x_max</th>\n",
              "      <th>accel_watch_y_max</th>\n",
              "      <th>accel_watch_z_max</th>\n",
              "      <th>gyro_watch_x_max</th>\n",
              "      <th>gyro_watch_y_max</th>\n",
              "      <th>gyro_watch_z_max</th>\n",
              "      <th>accel_phone_x_min</th>\n",
              "      <th>accel_phone_y_min</th>\n",
              "      <th>accel_phone_z_min</th>\n",
              "      <th>gyro_phone_x_min</th>\n",
              "      <th>gyro_phone_y_min</th>\n",
              "      <th>gyro_phone_z_min</th>\n",
              "      <th>accel_watch_x_min</th>\n",
              "      <th>accel_watch_y_min</th>\n",
              "      <th>accel_watch_z_min</th>\n",
              "      <th>gyro_watch_x_min</th>\n",
              "      <th>gyro_watch_y_min</th>\n",
              "      <th>gyro_watch_z_min</th>\n",
              "    </tr>\n",
              "  </thead>\n",
              "  <tbody>\n",
              "    <tr>\n",
              "      <th>0</th>\n",
              "      <td>1600.0</td>\n",
              "      <td>A</td>\n",
              "      <td>-1.858289</td>\n",
              "      <td>9.551098</td>\n",
              "      <td>0.416234</td>\n",
              "      <td>0.001224</td>\n",
              "      <td>0.038106</td>\n",
              "      <td>-0.005556</td>\n",
              "      <td>11.601998</td>\n",
              "      <td>-1.229969</td>\n",
              "      <td>-0.121505</td>\n",
              "      <td>0.028046</td>\n",
              "      <td>-0.137673</td>\n",
              "      <td>0.048749</td>\n",
              "      <td>3.453549</td>\n",
              "      <td>2.307516</td>\n",
              "      <td>2.501635</td>\n",
              "      <td>1.820879</td>\n",
              "      <td>1.596966</td>\n",
              "      <td>3.208798</td>\n",
              "      <td>2.027485</td>\n",
              "      <td>3.652112</td>\n",
              "      <td>2.091820</td>\n",
              "      <td>0.711767</td>\n",
              "      <td>0.716006</td>\n",
              "      <td>0.409006</td>\n",
              "      <td>5.301727</td>\n",
              "      <td>19.494522</td>\n",
              "      <td>8.677124</td>\n",
              "      <td>1.745514</td>\n",
              "      <td>2.476791</td>\n",
              "      <td>1.337357</td>\n",
              "      <td>19.761143</td>\n",
              "      <td>11.506234</td>\n",
              "      <td>12.912080</td>\n",
              "      <td>12.553599</td>\n",
              "      <td>8.330883</td>\n",
              "      <td>8.926925</td>\n",
              "      <td>-10.639038</td>\n",
              "      <td>0.962326</td>\n",
              "      <td>-9.686493</td>\n",
              "      <td>-2.324676</td>\n",
              "      <td>-2.108017</td>\n",
              "      <td>-1.411194</td>\n",
              "      <td>1.994370</td>\n",
              "      <td>-18.543392</td>\n",
              "      <td>-9.071481</td>\n",
              "      <td>-11.226302</td>\n",
              "      <td>-6.139659</td>\n",
              "      <td>-7.886152</td>\n",
              "    </tr>\n",
              "    <tr>\n",
              "      <th>1</th>\n",
              "      <td>1600.0</td>\n",
              "      <td>B</td>\n",
              "      <td>-1.071021</td>\n",
              "      <td>8.408919</td>\n",
              "      <td>-1.283815</td>\n",
              "      <td>-0.017137</td>\n",
              "      <td>0.027013</td>\n",
              "      <td>-0.023789</td>\n",
              "      <td>1.234961</td>\n",
              "      <td>-8.125257</td>\n",
              "      <td>0.480167</td>\n",
              "      <td>-0.327202</td>\n",
              "      <td>-0.007547</td>\n",
              "      <td>0.072401</td>\n",
              "      <td>6.664800</td>\n",
              "      <td>8.702986</td>\n",
              "      <td>4.475504</td>\n",
              "      <td>1.966028</td>\n",
              "      <td>2.219061</td>\n",
              "      <td>2.691133</td>\n",
              "      <td>3.542254</td>\n",
              "      <td>7.627480</td>\n",
              "      <td>3.949949</td>\n",
              "      <td>0.980858</td>\n",
              "      <td>0.821356</td>\n",
              "      <td>0.765801</td>\n",
              "      <td>14.439133</td>\n",
              "      <td>19.613052</td>\n",
              "      <td>18.304611</td>\n",
              "      <td>2.253464</td>\n",
              "      <td>3.527435</td>\n",
              "      <td>2.107529</td>\n",
              "      <td>19.761143</td>\n",
              "      <td>19.349638</td>\n",
              "      <td>19.405155</td>\n",
              "      <td>14.196736</td>\n",
              "      <td>8.830762</td>\n",
              "      <td>7.732712</td>\n",
              "      <td>-19.566513</td>\n",
              "      <td>-9.483810</td>\n",
              "      <td>-17.290695</td>\n",
              "      <td>-3.696442</td>\n",
              "      <td>-2.726151</td>\n",
              "      <td>-5.207306</td>\n",
              "      <td>-15.897499</td>\n",
              "      <td>-19.235315</td>\n",
              "      <td>-19.820848</td>\n",
              "      <td>-10.325736</td>\n",
              "      <td>-7.574458</td>\n",
              "      <td>-9.231690</td>\n",
              "    </tr>\n",
              "    <tr>\n",
              "      <th>2</th>\n",
              "      <td>1600.0</td>\n",
              "      <td>C</td>\n",
              "      <td>-1.816461</td>\n",
              "      <td>9.548859</td>\n",
              "      <td>-1.047010</td>\n",
              "      <td>-0.005726</td>\n",
              "      <td>0.035791</td>\n",
              "      <td>-0.010624</td>\n",
              "      <td>9.828837</td>\n",
              "      <td>-2.988477</td>\n",
              "      <td>0.023686</td>\n",
              "      <td>0.024794</td>\n",
              "      <td>-0.083098</td>\n",
              "      <td>0.007584</td>\n",
              "      <td>3.613316</td>\n",
              "      <td>2.046412</td>\n",
              "      <td>1.797933</td>\n",
              "      <td>1.867497</td>\n",
              "      <td>0.947833</td>\n",
              "      <td>1.877976</td>\n",
              "      <td>1.549581</td>\n",
              "      <td>3.103080</td>\n",
              "      <td>1.834809</td>\n",
              "      <td>0.452058</td>\n",
              "      <td>0.817487</td>\n",
              "      <td>0.346521</td>\n",
              "      <td>5.869797</td>\n",
              "      <td>19.613052</td>\n",
              "      <td>7.171860</td>\n",
              "      <td>1.138992</td>\n",
              "      <td>4.067841</td>\n",
              "      <td>1.143982</td>\n",
              "      <td>19.626020</td>\n",
              "      <td>7.368156</td>\n",
              "      <td>10.139295</td>\n",
              "      <td>8.934559</td>\n",
              "      <td>4.552277</td>\n",
              "      <td>6.550264</td>\n",
              "      <td>-11.571808</td>\n",
              "      <td>2.489105</td>\n",
              "      <td>-9.491287</td>\n",
              "      <td>-1.909103</td>\n",
              "      <td>-3.875275</td>\n",
              "      <td>-1.415253</td>\n",
              "      <td>0.542436</td>\n",
              "      <td>-16.722301</td>\n",
              "      <td>-8.908974</td>\n",
              "      <td>-16.678230</td>\n",
              "      <td>-3.820578</td>\n",
              "      <td>-6.779429</td>\n",
              "    </tr>\n",
              "    <tr>\n",
              "      <th>3</th>\n",
              "      <td>1600.0</td>\n",
              "      <td>D</td>\n",
              "      <td>4.340126</td>\n",
              "      <td>4.307061</td>\n",
              "      <td>6.840650</td>\n",
              "      <td>-0.001236</td>\n",
              "      <td>-0.000718</td>\n",
              "      <td>0.000076</td>\n",
              "      <td>3.070925</td>\n",
              "      <td>-2.427000</td>\n",
              "      <td>8.904933</td>\n",
              "      <td>-0.002947</td>\n",
              "      <td>-0.004101</td>\n",
              "      <td>-0.003639</td>\n",
              "      <td>0.326504</td>\n",
              "      <td>0.902642</td>\n",
              "      <td>0.417017</td>\n",
              "      <td>0.091350</td>\n",
              "      <td>0.066911</td>\n",
              "      <td>0.080940</td>\n",
              "      <td>0.170122</td>\n",
              "      <td>0.227639</td>\n",
              "      <td>0.089180</td>\n",
              "      <td>0.027035</td>\n",
              "      <td>0.032037</td>\n",
              "      <td>0.032654</td>\n",
              "      <td>5.207489</td>\n",
              "      <td>6.135986</td>\n",
              "      <td>7.474320</td>\n",
              "      <td>0.334198</td>\n",
              "      <td>0.459183</td>\n",
              "      <td>0.412323</td>\n",
              "      <td>7.343915</td>\n",
              "      <td>2.984971</td>\n",
              "      <td>14.082246</td>\n",
              "      <td>1.148045</td>\n",
              "      <td>0.753045</td>\n",
              "      <td>0.866559</td>\n",
              "      <td>2.627441</td>\n",
              "      <td>3.285233</td>\n",
              "      <td>5.893967</td>\n",
              "      <td>-0.395569</td>\n",
              "      <td>-0.406128</td>\n",
              "      <td>-0.450180</td>\n",
              "      <td>-0.734122</td>\n",
              "      <td>-4.805761</td>\n",
              "      <td>7.371298</td>\n",
              "      <td>-1.907133</td>\n",
              "      <td>-1.544470</td>\n",
              "      <td>-2.664792</td>\n",
              "    </tr>\n",
              "    <tr>\n",
              "      <th>4</th>\n",
              "      <td>1600.0</td>\n",
              "      <td>E</td>\n",
              "      <td>-2.146507</td>\n",
              "      <td>9.510909</td>\n",
              "      <td>0.818673</td>\n",
              "      <td>-0.000247</td>\n",
              "      <td>0.000561</td>\n",
              "      <td>0.000421</td>\n",
              "      <td>9.573835</td>\n",
              "      <td>-0.859850</td>\n",
              "      <td>0.626032</td>\n",
              "      <td>-0.002764</td>\n",
              "      <td>-0.001139</td>\n",
              "      <td>0.000281</td>\n",
              "      <td>0.124943</td>\n",
              "      <td>0.445100</td>\n",
              "      <td>0.403227</td>\n",
              "      <td>0.147148</td>\n",
              "      <td>0.057099</td>\n",
              "      <td>0.040520</td>\n",
              "      <td>0.175640</td>\n",
              "      <td>0.042927</td>\n",
              "      <td>0.179146</td>\n",
              "      <td>0.014611</td>\n",
              "      <td>0.024517</td>\n",
              "      <td>0.014053</td>\n",
              "      <td>-0.582855</td>\n",
              "      <td>9.844833</td>\n",
              "      <td>1.498459</td>\n",
              "      <td>0.111969</td>\n",
              "      <td>0.190704</td>\n",
              "      <td>0.124786</td>\n",
              "      <td>10.496031</td>\n",
              "      <td>2.127847</td>\n",
              "      <td>4.081665</td>\n",
              "      <td>1.125023</td>\n",
              "      <td>0.506530</td>\n",
              "      <td>0.607851</td>\n",
              "      <td>-2.551071</td>\n",
              "      <td>9.177765</td>\n",
              "      <td>0.377426</td>\n",
              "      <td>-0.107132</td>\n",
              "      <td>-0.280487</td>\n",
              "      <td>-0.188522</td>\n",
              "      <td>8.530391</td>\n",
              "      <td>-2.316689</td>\n",
              "      <td>-0.183007</td>\n",
              "      <td>-3.045990</td>\n",
              "      <td>-0.711070</td>\n",
              "      <td>-0.494741</td>\n",
              "    </tr>\n",
              "  </tbody>\n",
              "</table>\n",
              "</div>"
            ],
            "text/plain": [
              "       ID output  ...  gyro_watch_y_min  gyro_watch_z_min\n",
              "0  1600.0      A  ...         -6.139659         -7.886152\n",
              "1  1600.0      B  ...         -7.574458         -9.231690\n",
              "2  1600.0      C  ...         -3.820578         -6.779429\n",
              "3  1600.0      D  ...         -1.544470         -2.664792\n",
              "4  1600.0      E  ...         -0.711070         -0.494741\n",
              "\n",
              "[5 rows x 50 columns]"
            ]
          },
          "metadata": {
            "tags": []
          },
          "execution_count": 66
        }
      ]
    },
    {
      "cell_type": "code",
      "metadata": {
        "id": "QnBRMhwqqH7B",
        "colab_type": "code",
        "colab": {}
      },
      "source": [
        "xtrain.drop([\"ID\"],axis = 1, inplace = True)\n",
        "xtest.drop([\"ID\"],axis = 1, inplace = True)"
      ],
      "execution_count": 0,
      "outputs": []
    },
    {
      "cell_type": "code",
      "metadata": {
        "id": "qKLTMz6KqNbF",
        "colab_type": "code",
        "colab": {}
      },
      "source": [
        "ytrain = xtrain[\"output\"]\n",
        "xtrain.drop([\"output\"],axis = 1, inplace = True)"
      ],
      "execution_count": 0,
      "outputs": []
    },
    {
      "cell_type": "code",
      "metadata": {
        "id": "01WiKue2qP2e",
        "colab_type": "code",
        "colab": {}
      },
      "source": [
        "ytest = xtest[\"output\"]\n",
        "xtest.drop([\"output\"],axis = 1, inplace = True)"
      ],
      "execution_count": 0,
      "outputs": []
    },
    {
      "cell_type": "code",
      "metadata": {
        "id": "pdS2MndRqSZa",
        "colab_type": "code",
        "colab": {}
      },
      "source": [
        "le = LabelEncoder()\n",
        "y_train = le.fit_transform(ytrain)\n",
        "y_test = le.fit_transform(ytest)"
      ],
      "execution_count": 0,
      "outputs": []
    },
    {
      "cell_type": "code",
      "metadata": {
        "id": "_C0zpYJCqUNQ",
        "colab_type": "code",
        "colab": {
          "base_uri": "https://localhost:8080/",
          "height": 34
        },
        "outputId": "faa0f653-a740-4695-fe8f-e697c29f3245"
      },
      "source": [
        "y_train=keras.utils.to_categorical(y_train,18)\n",
        "y_test=keras.utils.to_categorical(y_test,18)\n",
        "xtrain.shape"
      ],
      "execution_count": 71,
      "outputs": [
        {
          "output_type": "execute_result",
          "data": {
            "text/plain": [
              "(355, 48)"
            ]
          },
          "metadata": {
            "tags": []
          },
          "execution_count": 71
        }
      ]
    },
    {
      "cell_type": "code",
      "metadata": {
        "id": "dHKbGxaAqWDn",
        "colab_type": "code",
        "colab": {
          "base_uri": "https://localhost:8080/",
          "height": 34
        },
        "outputId": "66a7926a-d047-4b8b-8b77-253896f57306"
      },
      "source": [
        "y_train.shape"
      ],
      "execution_count": 72,
      "outputs": [
        {
          "output_type": "execute_result",
          "data": {
            "text/plain": [
              "(355, 18)"
            ]
          },
          "metadata": {
            "tags": []
          },
          "execution_count": 72
        }
      ]
    },
    {
      "cell_type": "code",
      "metadata": {
        "id": "jmfWFJ4kqYGU",
        "colab_type": "code",
        "colab": {
          "base_uri": "https://localhost:8080/",
          "height": 286
        },
        "outputId": "3d188618-a0c5-4581-c5e5-51dffd52f53f"
      },
      "source": [
        "# making neural network \n",
        "model = Sequential()\n",
        "model.add(Dense(100, input_shape=(48,)))\n",
        "model.add(Activation('relu'))\n",
        "model.add(Dense(18))\n",
        "model.add(Activation('softmax'))\n",
        "model.summary()"
      ],
      "execution_count": 74,
      "outputs": [
        {
          "output_type": "stream",
          "text": [
            "Model: \"sequential_8\"\n",
            "_________________________________________________________________\n",
            "Layer (type)                 Output Shape              Param #   \n",
            "=================================================================\n",
            "dense_15 (Dense)             (None, 100)               4900      \n",
            "_________________________________________________________________\n",
            "activation_15 (Activation)   (None, 100)               0         \n",
            "_________________________________________________________________\n",
            "dense_16 (Dense)             (None, 18)                1818      \n",
            "_________________________________________________________________\n",
            "activation_16 (Activation)   (None, 18)                0         \n",
            "=================================================================\n",
            "Total params: 6,718\n",
            "Trainable params: 6,718\n",
            "Non-trainable params: 0\n",
            "_________________________________________________________________\n"
          ],
          "name": "stdout"
        }
      ]
    },
    {
      "cell_type": "code",
      "metadata": {
        "id": "qXdlOBjiqaPp",
        "colab_type": "code",
        "colab": {}
      },
      "source": [
        "model.compile(loss=\"binary_crossentropy\",optimizer=\"adam\",metrics=[\"accuracy\"])"
      ],
      "execution_count": 0,
      "outputs": []
    },
    {
      "cell_type": "code",
      "metadata": {
        "id": "ws4lO2L9qd_i",
        "colab_type": "code",
        "colab": {
          "base_uri": "https://localhost:8080/",
          "height": 706
        },
        "outputId": "fe153854-49d5-472a-c069-0977587eed75"
      },
      "source": [
        "model.fit(xtrain,y_train,batch_size=1,epochs=20,verbose=1)"
      ],
      "execution_count": 76,
      "outputs": [
        {
          "output_type": "stream",
          "text": [
            "Epoch 1/20\n",
            "355/355 [==============================] - 0s 1ms/step - loss: 0.4054 - accuracy: 0.9264\n",
            "Epoch 2/20\n",
            "355/355 [==============================] - 0s 1ms/step - loss: 0.2520 - accuracy: 0.9347\n",
            "Epoch 3/20\n",
            "355/355 [==============================] - 0s 1ms/step - loss: 0.2200 - accuracy: 0.9399\n",
            "Epoch 4/20\n",
            "355/355 [==============================] - 0s 1ms/step - loss: 0.2003 - accuracy: 0.9427\n",
            "Epoch 5/20\n",
            "355/355 [==============================] - 0s 1ms/step - loss: 0.1867 - accuracy: 0.9452\n",
            "Epoch 6/20\n",
            "355/355 [==============================] - 0s 1ms/step - loss: 0.1759 - accuracy: 0.9484\n",
            "Epoch 7/20\n",
            "355/355 [==============================] - 0s 1ms/step - loss: 0.1639 - accuracy: 0.9488\n",
            "Epoch 8/20\n",
            "355/355 [==============================] - 0s 1ms/step - loss: 0.1552 - accuracy: 0.9554\n",
            "Epoch 9/20\n",
            "355/355 [==============================] - 0s 1ms/step - loss: 0.1485 - accuracy: 0.9552\n",
            "Epoch 10/20\n",
            "355/355 [==============================] - 0s 1ms/step - loss: 0.1413 - accuracy: 0.9588\n",
            "Epoch 11/20\n",
            "355/355 [==============================] - 0s 1ms/step - loss: 0.1360 - accuracy: 0.9615\n",
            "Epoch 12/20\n",
            "355/355 [==============================] - 0s 1ms/step - loss: 0.1273 - accuracy: 0.9656\n",
            "Epoch 13/20\n",
            "355/355 [==============================] - 0s 1ms/step - loss: 0.1267 - accuracy: 0.9642\n",
            "Epoch 14/20\n",
            "355/355 [==============================] - 0s 1ms/step - loss: 0.1161 - accuracy: 0.9682\n",
            "Epoch 15/20\n",
            "355/355 [==============================] - 0s 1ms/step - loss: 0.1097 - accuracy: 0.9715\n",
            "Epoch 16/20\n",
            "355/355 [==============================] - 0s 1ms/step - loss: 0.1092 - accuracy: 0.9707\n",
            "Epoch 17/20\n",
            "355/355 [==============================] - 0s 1ms/step - loss: 0.1068 - accuracy: 0.9734\n",
            "Epoch 18/20\n",
            "355/355 [==============================] - 1s 1ms/step - loss: 0.1026 - accuracy: 0.9743\n",
            "Epoch 19/20\n",
            "355/355 [==============================] - 0s 1ms/step - loss: 0.0961 - accuracy: 0.9761\n",
            "Epoch 20/20\n",
            "355/355 [==============================] - 0s 1ms/step - loss: 0.0950 - accuracy: 0.9767\n"
          ],
          "name": "stdout"
        },
        {
          "output_type": "execute_result",
          "data": {
            "text/plain": [
              "<keras.callbacks.callbacks.History at 0x7f702372ef60>"
            ]
          },
          "metadata": {
            "tags": []
          },
          "execution_count": 76
        }
      ]
    },
    {
      "cell_type": "code",
      "metadata": {
        "id": "onqjSfT3qgEA",
        "colab_type": "code",
        "colab": {
          "base_uri": "https://localhost:8080/",
          "height": 50
        },
        "outputId": "f6938bf9-8255-4b3e-f6c6-bc950453b07a"
      },
      "source": [
        "score = model.evaluate(xtest, y_test,verbose=0)\n",
        "print('Test loss for both watch and mobile data using neural network:', score[0])\n",
        "print('Test accuracy for both watch and mobile data using neural network:', score[1]*100,\"%\")"
      ],
      "execution_count": 77,
      "outputs": [
        {
          "output_type": "stream",
          "text": [
            "Test loss for both watch and mobile data using neural network: 0.31654980021809775\n",
            "Test accuracy for both watch and mobile data using neural network: 92.63668656349182 %\n"
          ],
          "name": "stdout"
        }
      ]
    },
    {
      "cell_type": "code",
      "metadata": {
        "id": "TAcYOqiaqoow",
        "colab_type": "code",
        "colab": {
          "base_uri": "https://localhost:8080/",
          "height": 34
        },
        "outputId": "d2617af4-94e5-40f5-e3f3-36f1251c8840"
      },
      "source": [
        "model_json = model.to_json()\n",
        "with open(\"model_both_NN.json\", \"w\") as json_file:\n",
        "    json_file.write(model_json)\n",
        "# serialize weights to HDF5\n",
        "model.save_weights(\"model_both_NN.h5\")\n",
        "print(\"Saved model to disk\")\n",
        " "
      ],
      "execution_count": 81,
      "outputs": [
        {
          "output_type": "stream",
          "text": [
            "Saved model to disk\n"
          ],
          "name": "stdout"
        }
      ]
    },
    {
      "cell_type": "code",
      "metadata": {
        "id": "0dRyYBoIsXdR",
        "colab_type": "code",
        "colab": {}
      },
      "source": [
        ""
      ],
      "execution_count": 0,
      "outputs": []
    }
  ]
}